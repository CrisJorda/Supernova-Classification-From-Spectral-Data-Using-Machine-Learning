{
 "cells": [
  {
   "cell_type": "markdown",
   "metadata": {},
   "source": [
    "First model of XGBoost for all spectra without error file."
   ]
  },
  {
   "cell_type": "code",
   "execution_count": 92,
   "metadata": {},
   "outputs": [],
   "source": [
    "# import external libraries\n",
    "import pandas\n",
    "import xgboost as xgb\n",
    "import numpy\n",
    "from sklearn.model_selection import train_test_split\n",
    "from sklearn.preprocessing import LabelEncoder\n",
    "import sklearn.metrics as metrics\n",
    "from sklearn.utils.class_weight import compute_sample_weight\n",
    "from matplotlib import pyplot as plt\n",
    "import seaborn as sns\n",
    "from collections import Counter"
   ]
  },
  {
   "cell_type": "code",
   "execution_count": 93,
   "metadata": {},
   "outputs": [
    {
     "name": "stdout",
     "output_type": "stream",
     "text": [
      "(2243, 602)\n",
      "(2243, 2)\n"
     ]
    }
   ],
   "source": [
    "# load the dataset \n",
    "spectrum_data = pandas.read_csv(\"C:/Users/Cristina/Documents/uni/4B/TFG/all_spectra.csv\")\n",
    "# check the dimensions of the dataset\n",
    "print(spectrum_data.shape)\n",
    "# load the types vector\n",
    "types_data = pandas.read_csv(\"C:/Users/Cristina/Documents/uni/4B/TFG/type_spectra.csv\",delimiter = \";\")\n",
    "# check the dimensions of the dataset\n",
    "print(types_data.shape)"
   ]
  },
  {
   "cell_type": "code",
   "execution_count": 94,
   "metadata": {},
   "outputs": [
    {
     "data": {
      "text/plain": [
       "array(['SN IIb', 'SN II', 'SN Ic', ..., 'SN IIb', 'SN II', 'SN Ib'],\n",
       "      dtype=object)"
      ]
     },
     "execution_count": 94,
     "metadata": {},
     "output_type": "execute_result"
    }
   ],
   "source": [
    "# replace the categories with numbers\n",
    "le = LabelEncoder()\n",
    "types_data = le.fit_transform(types_data.iloc[:,1])\n",
    "# transform labels back to original encoding.\n",
    "le.inverse_transform(types_data)"
   ]
  },
  {
   "cell_type": "code",
   "execution_count": 95,
   "metadata": {},
   "outputs": [
    {
     "name": "stdout",
     "output_type": "stream",
     "text": [
      "Counter({0: 574, 2: 454, 3: 339, 5: 314, 6: 277, 4: 141, 7: 117, 1: 27})\n"
     ]
    }
   ],
   "source": [
    "# subset the data (remove 1st column)\n",
    "X = spectrum_data.iloc[:,1:]\n",
    "y = types_data\n",
    "print(Counter(y))"
   ]
  },
  {
   "cell_type": "code",
   "execution_count": 96,
   "metadata": {},
   "outputs": [
    {
     "name": "stdout",
     "output_type": "stream",
     "text": [
      "(1794, 601)\n",
      "(225, 601)\n",
      "(224, 601)\n",
      "(1794,)\n",
      "(225,)\n",
      "(224,)\n",
      "Counter({0: 459, 2: 363, 3: 271, 5: 251, 6: 221, 4: 113, 7: 94, 1: 22})\n",
      "Counter({0: 58, 2: 46, 3: 34, 5: 32, 6: 28, 4: 14, 7: 11, 1: 2})\n",
      "Counter({0: 57, 2: 45, 3: 34, 5: 31, 6: 28, 4: 14, 7: 12, 1: 3})\n"
     ]
    }
   ],
   "source": [
    "# create the train, val and test sets\n",
    "X_train, X_rem, y_train, y_rem = train_test_split(X, y, train_size = 0.8, random_state = 123, stratify = y)\n",
    "X_val, X_test, y_val, y_test = train_test_split(X_rem, y_rem, test_size = 0.5, random_state = 123, stratify = y_rem)\n",
    "# check the dimensions of the new matrices and vectors\n",
    "print(X_train.shape)\n",
    "print(X_test.shape)\n",
    "print(X_val.shape)\n",
    "print(y_train.shape)\n",
    "print(y_test.shape)\n",
    "print(y_val.shape)\n",
    "print(Counter(y_train))\n",
    "print(Counter(y_test))\n",
    "print(Counter(y_val))\n",
    "# convert the data into Dmatrix\n",
    "dtrain = xgb.DMatrix(X_train,y_train)\n",
    "dval = xgb.DMatrix(X_val,y_val)\n",
    "dtest = xgb.DMatrix(X_test,y_test)"
   ]
  },
  {
   "cell_type": "code",
   "execution_count": 97,
   "metadata": {},
   "outputs": [],
   "source": [
    "# instantiate an XGBoost classifier object\n",
    "xg_clas = xgb.XGBClassifier(objective ='multi:softprob', num_class = 8, colsample_bytree = 0.8, subsample = 0.8, learning_rate = 0.1, max_depth = 5, eta = 0.4, n_estimators = 250)\n",
    "# objective: learning task and the corresponding learning objective\n",
    "# -> multi:softprob: the result contains predicted probability of each data point belonging to each class\n",
    "# num_class: number of classes\n",
    "# colsample_bytree: subsample ratio of columns when constructing each tree (0,1]\n",
    "# subsample: fraction of observations to be randomly samples for each tree (0,1]\n",
    "# learning_rate: boosting learning rate \n",
    "# max_depth: maximum tree depth for base learners (default = 6)\n",
    "# eta: step size shrinkage used in update to prevents overfitting (default = 0.3)\n",
    "# n_estimators: number of boosting rounds"
   ]
  },
  {
   "cell_type": "code",
   "execution_count": 98,
   "metadata": {},
   "outputs": [],
   "source": [
    "sample_weights = compute_sample_weight(class_weight = 'balanced', y = y_train)"
   ]
  },
  {
   "cell_type": "code",
   "execution_count": 99,
   "metadata": {},
   "outputs": [
    {
     "name": "stderr",
     "output_type": "stream",
     "text": [
      "c:\\Users\\Cristina\\AppData\\Local\\Programs\\Python\\Python310\\lib\\site-packages\\xgboost\\sklearn.py:793: UserWarning: `eval_metric` in `fit` method is deprecated for better compatibility with scikit-learn, use `eval_metric` in constructor or`set_params` instead.\n",
      "  warnings.warn(\n",
      "c:\\Users\\Cristina\\AppData\\Local\\Programs\\Python\\Python310\\lib\\site-packages\\xgboost\\sklearn.py:793: UserWarning: `early_stopping_rounds` in `fit` method is deprecated for better compatibility with scikit-learn, use `early_stopping_rounds` in constructor or`set_params` instead.\n",
      "  warnings.warn(\n"
     ]
    },
    {
     "name": "stdout",
     "output_type": "stream",
     "text": [
      "[0]\tvalidation_0-mlogloss:1.91014\n",
      "[1]\tvalidation_0-mlogloss:1.77458\n",
      "[2]\tvalidation_0-mlogloss:1.67086\n",
      "[3]\tvalidation_0-mlogloss:1.57575\n",
      "[4]\tvalidation_0-mlogloss:1.49327\n",
      "[5]\tvalidation_0-mlogloss:1.41999\n",
      "[6]\tvalidation_0-mlogloss:1.34808\n",
      "[7]\tvalidation_0-mlogloss:1.29506\n",
      "[8]\tvalidation_0-mlogloss:1.24705\n",
      "[9]\tvalidation_0-mlogloss:1.20225\n",
      "[10]\tvalidation_0-mlogloss:1.15663\n",
      "[11]\tvalidation_0-mlogloss:1.11685\n",
      "[12]\tvalidation_0-mlogloss:1.08390\n",
      "[13]\tvalidation_0-mlogloss:1.04383\n",
      "[14]\tvalidation_0-mlogloss:1.01228\n",
      "[15]\tvalidation_0-mlogloss:0.98314\n",
      "[16]\tvalidation_0-mlogloss:0.95516\n",
      "[17]\tvalidation_0-mlogloss:0.92960\n",
      "[18]\tvalidation_0-mlogloss:0.90604\n",
      "[19]\tvalidation_0-mlogloss:0.88373\n",
      "[20]\tvalidation_0-mlogloss:0.86353\n",
      "[21]\tvalidation_0-mlogloss:0.84105\n",
      "[22]\tvalidation_0-mlogloss:0.82067\n",
      "[23]\tvalidation_0-mlogloss:0.80261\n",
      "[24]\tvalidation_0-mlogloss:0.78776\n",
      "[25]\tvalidation_0-mlogloss:0.77028\n",
      "[26]\tvalidation_0-mlogloss:0.75873\n",
      "[27]\tvalidation_0-mlogloss:0.74086\n",
      "[28]\tvalidation_0-mlogloss:0.72946\n",
      "[29]\tvalidation_0-mlogloss:0.71445\n",
      "[30]\tvalidation_0-mlogloss:0.70364\n",
      "[31]\tvalidation_0-mlogloss:0.69388\n",
      "[32]\tvalidation_0-mlogloss:0.68317\n",
      "[33]\tvalidation_0-mlogloss:0.67262\n",
      "[34]\tvalidation_0-mlogloss:0.66006\n",
      "[35]\tvalidation_0-mlogloss:0.65146\n",
      "[36]\tvalidation_0-mlogloss:0.64054\n",
      "[37]\tvalidation_0-mlogloss:0.63143\n",
      "[38]\tvalidation_0-mlogloss:0.62363\n",
      "[39]\tvalidation_0-mlogloss:0.61531\n",
      "[40]\tvalidation_0-mlogloss:0.60786\n",
      "[41]\tvalidation_0-mlogloss:0.60362\n",
      "[42]\tvalidation_0-mlogloss:0.59595\n",
      "[43]\tvalidation_0-mlogloss:0.59265\n",
      "[44]\tvalidation_0-mlogloss:0.58524\n",
      "[45]\tvalidation_0-mlogloss:0.57715\n",
      "[46]\tvalidation_0-mlogloss:0.57367\n",
      "[47]\tvalidation_0-mlogloss:0.56867\n",
      "[48]\tvalidation_0-mlogloss:0.56432\n",
      "[49]\tvalidation_0-mlogloss:0.55907\n",
      "[50]\tvalidation_0-mlogloss:0.55540\n",
      "[51]\tvalidation_0-mlogloss:0.55277\n",
      "[52]\tvalidation_0-mlogloss:0.54764\n",
      "[53]\tvalidation_0-mlogloss:0.54293\n",
      "[54]\tvalidation_0-mlogloss:0.53801\n",
      "[55]\tvalidation_0-mlogloss:0.53163\n",
      "[56]\tvalidation_0-mlogloss:0.52877\n",
      "[57]\tvalidation_0-mlogloss:0.52346\n",
      "[58]\tvalidation_0-mlogloss:0.51963\n",
      "[59]\tvalidation_0-mlogloss:0.51646\n",
      "[60]\tvalidation_0-mlogloss:0.51468\n",
      "[61]\tvalidation_0-mlogloss:0.51104\n",
      "[62]\tvalidation_0-mlogloss:0.50812\n",
      "[63]\tvalidation_0-mlogloss:0.50540\n",
      "[64]\tvalidation_0-mlogloss:0.50296\n",
      "[65]\tvalidation_0-mlogloss:0.50045\n",
      "[66]\tvalidation_0-mlogloss:0.49855\n",
      "[67]\tvalidation_0-mlogloss:0.49514\n",
      "[68]\tvalidation_0-mlogloss:0.49251\n",
      "[69]\tvalidation_0-mlogloss:0.49181\n",
      "[70]\tvalidation_0-mlogloss:0.49020\n",
      "[71]\tvalidation_0-mlogloss:0.48824\n",
      "[72]\tvalidation_0-mlogloss:0.48599\n",
      "[73]\tvalidation_0-mlogloss:0.48487\n",
      "[74]\tvalidation_0-mlogloss:0.48350\n",
      "[75]\tvalidation_0-mlogloss:0.48187\n",
      "[76]\tvalidation_0-mlogloss:0.48069\n",
      "[77]\tvalidation_0-mlogloss:0.48036\n",
      "[78]\tvalidation_0-mlogloss:0.48033\n",
      "[79]\tvalidation_0-mlogloss:0.47893\n",
      "[80]\tvalidation_0-mlogloss:0.47754\n",
      "[81]\tvalidation_0-mlogloss:0.47563\n",
      "[82]\tvalidation_0-mlogloss:0.47505\n",
      "[83]\tvalidation_0-mlogloss:0.47398\n",
      "[84]\tvalidation_0-mlogloss:0.47325\n",
      "[85]\tvalidation_0-mlogloss:0.47083\n",
      "[86]\tvalidation_0-mlogloss:0.47004\n",
      "[87]\tvalidation_0-mlogloss:0.46996\n",
      "[88]\tvalidation_0-mlogloss:0.46843\n",
      "[89]\tvalidation_0-mlogloss:0.46808\n",
      "[90]\tvalidation_0-mlogloss:0.46583\n",
      "[91]\tvalidation_0-mlogloss:0.46291\n",
      "[92]\tvalidation_0-mlogloss:0.46285\n",
      "[93]\tvalidation_0-mlogloss:0.46090\n",
      "[94]\tvalidation_0-mlogloss:0.45889\n",
      "[95]\tvalidation_0-mlogloss:0.45805\n",
      "[96]\tvalidation_0-mlogloss:0.45634\n",
      "[97]\tvalidation_0-mlogloss:0.45661\n",
      "[98]\tvalidation_0-mlogloss:0.45571\n",
      "[99]\tvalidation_0-mlogloss:0.45450\n",
      "[100]\tvalidation_0-mlogloss:0.45292\n",
      "[101]\tvalidation_0-mlogloss:0.45132\n",
      "[102]\tvalidation_0-mlogloss:0.45118\n",
      "[103]\tvalidation_0-mlogloss:0.45099\n",
      "[104]\tvalidation_0-mlogloss:0.45130\n",
      "[105]\tvalidation_0-mlogloss:0.45058\n",
      "[106]\tvalidation_0-mlogloss:0.45119\n",
      "[107]\tvalidation_0-mlogloss:0.45024\n",
      "[108]\tvalidation_0-mlogloss:0.44932\n",
      "[109]\tvalidation_0-mlogloss:0.44958\n",
      "[110]\tvalidation_0-mlogloss:0.44925\n",
      "[111]\tvalidation_0-mlogloss:0.44824\n",
      "[112]\tvalidation_0-mlogloss:0.44646\n",
      "[113]\tvalidation_0-mlogloss:0.44595\n",
      "[114]\tvalidation_0-mlogloss:0.44613\n",
      "[115]\tvalidation_0-mlogloss:0.44588\n",
      "[116]\tvalidation_0-mlogloss:0.44537\n",
      "[117]\tvalidation_0-mlogloss:0.44553\n",
      "[118]\tvalidation_0-mlogloss:0.44477\n",
      "[119]\tvalidation_0-mlogloss:0.44526\n",
      "[120]\tvalidation_0-mlogloss:0.44538\n",
      "[121]\tvalidation_0-mlogloss:0.44507\n",
      "[122]\tvalidation_0-mlogloss:0.44454\n",
      "[123]\tvalidation_0-mlogloss:0.44451\n",
      "[124]\tvalidation_0-mlogloss:0.44471\n",
      "[125]\tvalidation_0-mlogloss:0.44441\n",
      "[126]\tvalidation_0-mlogloss:0.44484\n",
      "[127]\tvalidation_0-mlogloss:0.44462\n",
      "[128]\tvalidation_0-mlogloss:0.44338\n",
      "[129]\tvalidation_0-mlogloss:0.44366\n",
      "[130]\tvalidation_0-mlogloss:0.44364\n",
      "[131]\tvalidation_0-mlogloss:0.44323\n",
      "[132]\tvalidation_0-mlogloss:0.44297\n",
      "[133]\tvalidation_0-mlogloss:0.44161\n",
      "[134]\tvalidation_0-mlogloss:0.44089\n",
      "[135]\tvalidation_0-mlogloss:0.43979\n",
      "[136]\tvalidation_0-mlogloss:0.43928\n",
      "[137]\tvalidation_0-mlogloss:0.43900\n",
      "[138]\tvalidation_0-mlogloss:0.43889\n",
      "[139]\tvalidation_0-mlogloss:0.43740\n",
      "[140]\tvalidation_0-mlogloss:0.43777\n",
      "[141]\tvalidation_0-mlogloss:0.43728\n",
      "[142]\tvalidation_0-mlogloss:0.43681\n",
      "[143]\tvalidation_0-mlogloss:0.43802\n",
      "[144]\tvalidation_0-mlogloss:0.43659\n",
      "[145]\tvalidation_0-mlogloss:0.43564\n",
      "[146]\tvalidation_0-mlogloss:0.43509\n",
      "[147]\tvalidation_0-mlogloss:0.43459\n",
      "[148]\tvalidation_0-mlogloss:0.43432\n",
      "[149]\tvalidation_0-mlogloss:0.43355\n",
      "[150]\tvalidation_0-mlogloss:0.43329\n",
      "[151]\tvalidation_0-mlogloss:0.43379\n",
      "[152]\tvalidation_0-mlogloss:0.43316\n",
      "[153]\tvalidation_0-mlogloss:0.43259\n",
      "[154]\tvalidation_0-mlogloss:0.43187\n",
      "[155]\tvalidation_0-mlogloss:0.43179\n",
      "[156]\tvalidation_0-mlogloss:0.43262\n",
      "[157]\tvalidation_0-mlogloss:0.43212\n",
      "[158]\tvalidation_0-mlogloss:0.43114\n",
      "[159]\tvalidation_0-mlogloss:0.43088\n",
      "[160]\tvalidation_0-mlogloss:0.43024\n",
      "[161]\tvalidation_0-mlogloss:0.42978\n",
      "[162]\tvalidation_0-mlogloss:0.43010\n",
      "[163]\tvalidation_0-mlogloss:0.42947\n",
      "[164]\tvalidation_0-mlogloss:0.42891\n",
      "[165]\tvalidation_0-mlogloss:0.42851\n",
      "[166]\tvalidation_0-mlogloss:0.42818\n",
      "[167]\tvalidation_0-mlogloss:0.42823\n",
      "[168]\tvalidation_0-mlogloss:0.42844\n",
      "[169]\tvalidation_0-mlogloss:0.42745\n",
      "[170]\tvalidation_0-mlogloss:0.42660\n",
      "[171]\tvalidation_0-mlogloss:0.42709\n",
      "[172]\tvalidation_0-mlogloss:0.42674\n",
      "[173]\tvalidation_0-mlogloss:0.42807\n",
      "[174]\tvalidation_0-mlogloss:0.42783\n",
      "[175]\tvalidation_0-mlogloss:0.42711\n",
      "[176]\tvalidation_0-mlogloss:0.42726\n",
      "[177]\tvalidation_0-mlogloss:0.42740\n",
      "[178]\tvalidation_0-mlogloss:0.42728\n",
      "[179]\tvalidation_0-mlogloss:0.42772\n",
      "[180]\tvalidation_0-mlogloss:0.42753\n",
      "[181]\tvalidation_0-mlogloss:0.42721\n",
      "[182]\tvalidation_0-mlogloss:0.42759\n",
      "[183]\tvalidation_0-mlogloss:0.42762\n",
      "[184]\tvalidation_0-mlogloss:0.42758\n",
      "[185]\tvalidation_0-mlogloss:0.42749\n",
      "[186]\tvalidation_0-mlogloss:0.42722\n",
      "[187]\tvalidation_0-mlogloss:0.42685\n",
      "[188]\tvalidation_0-mlogloss:0.42660\n",
      "[189]\tvalidation_0-mlogloss:0.42676\n",
      "[190]\tvalidation_0-mlogloss:0.42551\n",
      "[191]\tvalidation_0-mlogloss:0.42463\n",
      "[192]\tvalidation_0-mlogloss:0.42370\n",
      "[193]\tvalidation_0-mlogloss:0.42339\n",
      "[194]\tvalidation_0-mlogloss:0.42378\n",
      "[195]\tvalidation_0-mlogloss:0.42370\n",
      "[196]\tvalidation_0-mlogloss:0.42332\n",
      "[197]\tvalidation_0-mlogloss:0.42335\n",
      "[198]\tvalidation_0-mlogloss:0.42332\n",
      "[199]\tvalidation_0-mlogloss:0.42351\n",
      "[200]\tvalidation_0-mlogloss:0.42347\n",
      "[201]\tvalidation_0-mlogloss:0.42324\n",
      "[202]\tvalidation_0-mlogloss:0.42367\n",
      "[203]\tvalidation_0-mlogloss:0.42387\n",
      "[204]\tvalidation_0-mlogloss:0.42320\n",
      "[205]\tvalidation_0-mlogloss:0.42320\n",
      "[206]\tvalidation_0-mlogloss:0.42390\n",
      "[207]\tvalidation_0-mlogloss:0.42391\n",
      "[208]\tvalidation_0-mlogloss:0.42350\n",
      "[209]\tvalidation_0-mlogloss:0.42325\n",
      "[210]\tvalidation_0-mlogloss:0.42358\n",
      "[211]\tvalidation_0-mlogloss:0.42344\n",
      "[212]\tvalidation_0-mlogloss:0.42385\n",
      "[213]\tvalidation_0-mlogloss:0.42366\n",
      "[214]\tvalidation_0-mlogloss:0.42351\n",
      "[215]\tvalidation_0-mlogloss:0.42377\n",
      "[216]\tvalidation_0-mlogloss:0.42385\n",
      "[217]\tvalidation_0-mlogloss:0.42394\n",
      "[218]\tvalidation_0-mlogloss:0.42372\n",
      "[219]\tvalidation_0-mlogloss:0.42330\n",
      "[220]\tvalidation_0-mlogloss:0.42299\n",
      "[221]\tvalidation_0-mlogloss:0.42259\n",
      "[222]\tvalidation_0-mlogloss:0.42246\n",
      "[223]\tvalidation_0-mlogloss:0.42196\n",
      "[224]\tvalidation_0-mlogloss:0.42217\n",
      "[225]\tvalidation_0-mlogloss:0.42243\n",
      "[226]\tvalidation_0-mlogloss:0.42214\n",
      "[227]\tvalidation_0-mlogloss:0.42253\n",
      "[228]\tvalidation_0-mlogloss:0.42288\n",
      "[229]\tvalidation_0-mlogloss:0.42310\n",
      "[230]\tvalidation_0-mlogloss:0.42341\n",
      "[231]\tvalidation_0-mlogloss:0.42336\n",
      "[232]\tvalidation_0-mlogloss:0.42360\n",
      "[233]\tvalidation_0-mlogloss:0.42405\n",
      "[234]\tvalidation_0-mlogloss:0.42401\n",
      "[235]\tvalidation_0-mlogloss:0.42436\n",
      "[236]\tvalidation_0-mlogloss:0.42437\n",
      "[237]\tvalidation_0-mlogloss:0.42447\n",
      "[238]\tvalidation_0-mlogloss:0.42429\n",
      "[239]\tvalidation_0-mlogloss:0.42390\n",
      "[240]\tvalidation_0-mlogloss:0.42328\n",
      "[241]\tvalidation_0-mlogloss:0.42341\n",
      "[242]\tvalidation_0-mlogloss:0.42397\n",
      "[243]\tvalidation_0-mlogloss:0.42407\n",
      "[244]\tvalidation_0-mlogloss:0.42377\n",
      "[245]\tvalidation_0-mlogloss:0.42335\n",
      "[246]\tvalidation_0-mlogloss:0.42342\n",
      "[247]\tvalidation_0-mlogloss:0.42379\n"
     ]
    }
   ],
   "source": [
    "# fit the classifier to the training set\n",
    "bst = xg_clas.fit(X_train, y_train, eval_set = [(X_val, y_val)], eval_metric = 'mlogloss', early_stopping_rounds = 25, verbose = True, sample_weight = sample_weights)\n",
    "# “mlogloss”: Multiclass logloss"
   ]
  },
  {
   "cell_type": "code",
   "execution_count": 100,
   "metadata": {},
   "outputs": [
    {
     "data": {
      "text/plain": [
       "1.0"
      ]
     },
     "execution_count": 100,
     "metadata": {},
     "output_type": "execute_result"
    }
   ],
   "source": [
    "# make predictions on the train\n",
    "preds_train = xg_clas.predict(X_train)\n",
    "# compute balanced accuracy, the average of recall obtained on each class.\n",
    "metrics.balanced_accuracy_score(y_train, preds_train)"
   ]
  },
  {
   "cell_type": "code",
   "execution_count": 101,
   "metadata": {},
   "outputs": [
    {
     "data": {
      "text/plain": [
       "0.8636742175647849"
      ]
     },
     "execution_count": 101,
     "metadata": {},
     "output_type": "execute_result"
    }
   ],
   "source": [
    "# make predictions on the train\n",
    "preds_val = xg_clas.predict(X_val)\n",
    "# compute balanced accuracy, the average of recall obtained on each class.\n",
    "metrics.balanced_accuracy_score(y_val, preds_val)"
   ]
  },
  {
   "cell_type": "code",
   "execution_count": 102,
   "metadata": {},
   "outputs": [],
   "source": [
    "# make predictions on the test\n",
    "preds = xg_clas.predict(X_test)"
   ]
  },
  {
   "cell_type": "code",
   "execution_count": 103,
   "metadata": {},
   "outputs": [
    {
     "name": "stdout",
     "output_type": "stream",
     "text": [
      "['SN II' 'SN IIL' 'SN IIP' 'SN IIb' 'SN IIn' 'SN Ib' 'SN Ic' 'SN Ic-BL']\n"
     ]
    }
   ],
   "source": [
    "# print statistics\n",
    "labels = numpy.arange(0,8)\n",
    "target_names = le.inverse_transform(labels)\n",
    "print(target_names)\n",
    "#print(metrics.classification_report(y_test, preds, labels = labels, target_names = target_names))\n",
    "cf_matrix = metrics.confusion_matrix(y_test, preds, labels = labels, normalize = 'true')"
   ]
  },
  {
   "cell_type": "code",
   "execution_count": 104,
   "metadata": {},
   "outputs": [
    {
     "data": {
      "image/png": "[encoded data removed]",
      "text/plain": [
       "<Figure size 720x432 with 2 Axes>"
      ]
     },
     "metadata": {
      "needs_background": "light"
     },
     "output_type": "display_data"
    }
   ],
   "source": [
    "#colors = ['#f1ffff', '#faf3dd', '#d9f3e2', '#b8f2e6', '#aed9e0', '#fdcdbe', '#ffa69e', '#e89790']\n",
    "ax = sns.heatmap(cf_matrix, annot = True, fmt = '.2%', cmap = 'Blues')\n",
    "\n",
    "ax.set_title('Confusion Matrix\\n')\n",
    "ax.set_xlabel('\\nPredicted SN Class')\n",
    "ax.set_ylabel('Actual SN Class')\n",
    "\n",
    "labels_axis = labels + 0.5\n",
    "\n",
    "ax.set_xticks(labels_axis)\n",
    "ax.set_yticks(labels_axis)\n",
    "\n",
    "## Ticket labels - List must be in alphabetical order\n",
    "ax.xaxis.set_ticklabels(target_names)\n",
    "ax.yaxis.set_ticklabels(target_names)\n",
    "\n",
    "## Display the visualization of the Confusion Matrix.\n",
    "plt.rcParams[\"figure.figsize\"] = (12,7)\n",
    "plt.savefig('cf_matrix.png')\n",
    "plt.show()\n"
   ]
  },
  {
   "cell_type": "code",
   "execution_count": 105,
   "metadata": {},
   "outputs": [
    {
     "data": {
      "text/plain": [
       "0.827989661944238"
      ]
     },
     "execution_count": 105,
     "metadata": {},
     "output_type": "execute_result"
    }
   ],
   "source": [
    "# compute balanced accuracy, the average of recall obtained on each class.\n",
    "metrics.balanced_accuracy_score(y_test, preds)"
   ]
  },
  {
   "cell_type": "code",
   "execution_count": 106,
   "metadata": {},
   "outputs": [
    {
     "data": {
      "image/png": "[encoded data removed]",
      "text/plain": [
       "<Figure size 720x432 with 1 Axes>"
      ]
     },
     "metadata": {
      "needs_background": "light"
     },
     "output_type": "display_data"
    }
   ],
   "source": [
    "plt.rcParams[\"figure.figsize\"] = (10,6)\n",
    "\n",
    "plt.scatter(y_test, preds, color = '#e89790')\n",
    "plt.title('Actual vs predicted SN classes\\n')\n",
    "plt.xlabel('Actual SN Class')\n",
    "plt.ylabel('Predicted SN Class')\n",
    "\n",
    "ax.set_xticks(labels_axis)\n",
    "ax.set_yticks(labels_axis)\n",
    "\n",
    "## Ticket labels - List must be in alphabetical order\n",
    "ax.set_xticklabels(target_names)\n",
    "ax.set_yticklabels(target_names)\n",
    "\n",
    "m, b = numpy.polyfit(y_test, preds, 1)\n",
    "plt.plot(y_test, m*y_test+b, '#fdcdbe')\n",
    "plt.savefig('actual_pred.png')\n",
    "plt.show()"
   ]
  }
 ],
 "metadata": {
  "interpreter": {
   "hash": "53af14ca73579f38fc35504d34bf3f508b7be4b24c212c3802f5823429636072"
  },
  "kernelspec": {
   "display_name": "Python 3.10.2 64-bit",
   "language": "python",
   "name": "python3"
  },
  "language_info": {
   "codemirror_mode": {
    "name": "ipython",
    "version": 3
   },
   "file_extension": ".py",
   "mimetype": "text/x-python",
   "name": "python",
   "nbconvert_exporter": "python",
   "pygments_lexer": "ipython3",
   "version": "3.10.2"
  },
  "orig_nbformat": 4
 },
 "nbformat": 4,
 "nbformat_minor": 2
}
